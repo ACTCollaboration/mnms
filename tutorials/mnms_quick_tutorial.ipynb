{
 "cells": [
  {
   "cell_type": "markdown",
   "id": "7d3be8cb-25f2-498b-9a85-63df27be5269",
   "metadata": {},
   "source": [
    "## Scope\n",
    "In this notebook we give a very brief tutorial which focuses on the mnms python user interface. We'll use a downgraded version of the `d6` region so that all our operations are fast, even though you will probably never use that sim. This way you know how to use mnms in your own analysis code.\n",
    "\n",
    "## Tutorial\n",
    "\n",
    "In mnms, we always need to generate a \"sqrt-covariance\" matrix as a first step; only then can we generate sims:"
   ]
  },
  {
   "cell_type": "code",
   "execution_count": null,
   "id": "d2d087de-55d0-4ed7-982f-7c62b0114740",
   "metadata": {},
   "outputs": [],
   "source": [
    "from mnms import noise_models as nm\n",
    "\n",
    "tnm = nm.TiledNoiseModel('d6', downgrade=4, notes='my_first_model')"
   ]
  },
  {
   "cell_type": "code",
   "execution_count": null,
   "id": "fa91c9dd-cbc3-452f-bb09-c331aecfe9d0",
   "metadata": {},
   "outputs": [],
   "source": [
    "wnm = nm.WaveletNoiseModel('d6', downgrade=4, notes='my_first_model')"
   ]
  },
  {
   "cell_type": "markdown",
   "id": "4d105b2e-0487-4319-8f57-267d97e9930f",
   "metadata": {},
   "source": [
    "Now we need to make our noise model. Because they are the slowest step to make, and take up a lot of space, by default they are written to disk. The idea is that outside of testing/development, you only need to ever run this command once (per data-release, array-set, other parameters, etc):"
   ]
  },
  {
   "cell_type": "code",
   "execution_count": null,
   "id": "d7d21da6-2619-4c2d-9a9d-1d428a4af1ae",
   "metadata": {},
   "outputs": [],
   "source": [
    "tnm.get_model()"
   ]
  },
  {
   "cell_type": "code",
   "execution_count": null,
   "id": "e45d10f9-b880-4459-b38d-27c5a75508bf",
   "metadata": {},
   "outputs": [],
   "source": [
    "wnm.get_model()"
   ]
  },
  {
   "cell_type": "markdown",
   "id": "54bdf641-7762-4dca-861e-2525d433d647",
   "metadata": {},
   "source": [
    "To save you from accidentally regenerating the exact same model again, the argument `check_on_disk` is `True` by default. If I rerun `get_model`, it will find that the model is on-disk, and return nothing (you can also `keep` the model in memory, stored as an instance attribute, in this case, if you want):"
   ]
  },
  {
   "cell_type": "code",
   "execution_count": null,
   "id": "7c97b269-7b34-48ea-83fa-37d8bceb8f14",
   "metadata": {},
   "outputs": [],
   "source": [
    "tnm.get_model()\n",
    "wnm.get_model()"
   ]
  },
  {
   "cell_type": "markdown",
   "id": "5adee011-a4f9-4521-bf9b-71ce2bf20cc4",
   "metadata": {},
   "source": [
    "That was fast, and that's because the models are on-disk:"
   ]
  },
  {
   "cell_type": "code",
   "execution_count": null,
   "id": "8c55085c-8165-4f61-9e90-644a70f82119",
   "metadata": {},
   "outputs": [],
   "source": [
    "ls /scratch/gpfs/zatkins/data/ACTCollaboration/mnms/covmats/*my_first_model*"
   ]
  },
  {
   "cell_type": "markdown",
   "id": "57208cb6-f644-47a5-8d52-5a3edfcf6ac8",
   "metadata": {},
   "source": [
    "Note, this trick won't work if you give a model a different `notes` parameter. E.g., `my_second_model` is considered a totally distinct noise model from `my_first_model`, even if all the \"scientific\" parameters are the same.\n",
    "\n",
    "Now we can make sims. Sims are always made of single splits at a time. To do so, we must load the \"sqrt-covariance\" matrix from disk, so that we can sample from it, so make sure to have enough memory on-hand to do this. These files are only loaded once -- they are stored in the object instance, so that future calls to `get_sim` do not have to load from disk. There is also a similar `check_on_disk` parameter to prevent users from generating the same sim twice (by default this is True).\n",
    "\n",
    "By default, these are ***not*** saved to disk (but they can be, if desired). We need to tell `get_sim` which split and map number we want to make. The map number is used in getting a unique random seed (and if the sims is written to disk, will be stored in the filename):"
   ]
  },
  {
   "cell_type": "code",
   "execution_count": null,
   "id": "46dfaa7e-2598-44dd-a082-ff440d33d4b2",
   "metadata": {},
   "outputs": [],
   "source": [
    "tmap_s3_n123 = tnm.get_sim(3, 123, verbose=True)"
   ]
  },
  {
   "cell_type": "code",
   "execution_count": null,
   "id": "ec7764a4-2dcf-40d7-8109-c83ac3345531",
   "metadata": {},
   "outputs": [],
   "source": [
    "wmap_s3_n123 = wnm.get_sim(3, 123, verbose=True)"
   ]
  },
  {
   "cell_type": "markdown",
   "id": "016b21be-6698-4d61-9b53-3b6d09dd8f5f",
   "metadata": {},
   "source": [
    "As noted in the README, these sims always have shape (num_arrays, num_splits, num_pol, ny, nx), even if some of these axes have dimension 1. Because we generate sims per split, `num_splits=1` always. Let's take a look! "
   ]
  },
  {
   "cell_type": "code",
   "execution_count": null,
   "id": "df2ad98c-e466-4fc0-8007-8d7e0bc189e4",
   "metadata": {},
   "outputs": [],
   "source": [
    "from pixell import enplot\n",
    "\n",
    "enplot.pshow(tmap_s3_n123, colorbar=True)\n",
    "enplot.pshow(wmap_s3_n123, colorbar=True)"
   ]
  }
 ],
 "metadata": {
  "kernelspec": {
   "display_name": "Python 3 (ipykernel)",
   "language": "python",
   "name": "python3"
  },
  "language_info": {
   "codemirror_mode": {
    "name": "ipython",
    "version": 3
   },
   "file_extension": ".py",
   "mimetype": "text/x-python",
   "name": "python",
   "nbconvert_exporter": "python",
   "pygments_lexer": "ipython3",
   "version": "3.8.3"
  }
 },
 "nbformat": 4,
 "nbformat_minor": 5
}
